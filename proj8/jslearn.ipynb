{
 "cells": [
  {
   "cell_type": "code",
   "execution_count": 1,
   "metadata": {},
   "outputs": [
    {
     "name": "stdout",
     "output_type": "stream",
     "text": [
      "[ 2, 4, 2, 5 ]\n"
     ]
    }
   ],
   "source": [
    "/ concatenating arrays /\n",
    "let a = [2, 4];\n",
    "let b = [2, 5];\n",
    "console.log([...a, ...b]) // ... is spread operator."
   ]
  },
  {
   "cell_type": "markdown",
   "metadata": {},
   "source": [
    "vAR"
   ]
  },
  {
   "cell_type": "markdown",
   "metadata": {},
   "source": [
    " \"variable binding\" refers to the association of a variable name with a specific memory location (or value) during runtime, allowing the program to access and manipulate the data stored there\n",
    "\n",
    " \"hoisting a variable\" "
   ]
  },
  {
   "cell_type": "code",
   "execution_count": null,
   "metadata": {},
   "outputs": [],
   "source": [
    "{\n",
    "  var x = 2;\n",
    "}\n",
    "// x CAN be used here while let cannot outside scope nor redclared"
   ]
  },
  {
   "cell_type": "code",
   "execution_count": null,
   "metadata": {},
   "outputs": [],
   "source": [
    "console.log(myVariable); // Output: undefined (due to hoisting)\n",
    "var myVariable = \"Hello\";\n",
    "console.log(myVariable); // Output: Hello"
   ]
  },
  {
   "cell_type": "markdown",
   "metadata": {},
   "source": [
    "# Oop"
   ]
  },
  {
   "cell_type": "code",
   "execution_count": null,
   "metadata": {},
   "outputs": [],
   "source": [
    "const car = {type:\"Fiat\", model:\"500\", color:\"white\"}; // dictionary in python is object literals here. these ca be declared outside {} too by car.type = \"Fiat\". \n",
    "\n",
    "// Display Data from the Object:\n",
    "document.getElementById(\"demo\").innerHTML =\n",
    "\"The car type is \" + car.type + \"\\n Its model is\" + car.model; // can access by car[\"model\"]"
   ]
  },
  {
   "cell_type": "code",
   "execution_count": null,
   "metadata": {},
   "outputs": [],
   "source": [
    "//Create an Object\n",
    "const person = {\n",
    "  firstName:\"John\",\n",
    "  lastName:\"Doe\",\n",
    "  age:50, eyeColor:\"blue\",\n",
    "  fullName: function() {\n",
    "    return (this.firstName + \" \" + this.lastName).toUpperCase(); },\n",
    "  myCars: {\n",
    "    car1:\"Ford\",\n",
    "    car2:\"BMW\",\n",
    "    car3:\"Fiat\"\n",
    "  }, //nested object\n",
    "}\n",
    "\n",
    "// Try to create a copy\n",
    "const x = person;\n",
    "let myString = JSON.stringify(person);\n",
    "// This will change age in person:\n",
    "x.age = 10;\n",
    "let y = \"lastname\"; // giving new name to ur attribute\n",
    "const myArray = Object.values(person);\n",
    "person.nationality = \"English\"; // adding property afterwards\n",
    "document.getElementById(\"demo\").innerHTML = person.firstName + \" is \" + person[\"age\"] + \" years old.\" + \"he is a\" + person[y] + \"i have\" + person.myCars.car2 + person.myCars[\"car1\"] + \"i\" + person.fullName() + \"my all details are\" + myArray + \"my complete details are\" + myString;\n",
    "delete person.age;"
   ]
  },
  {
   "cell_type": "code",
   "execution_count": null,
   "metadata": {},
   "outputs": [],
   "source": [
    "// displaying values using loop\n",
    "<!DOCTYPE html>\n",
    "<html>\n",
    "<body>\n",
    "<h1>JavaScript Objects</h1>\n",
    "<h2>Display Properties</h2>\n",
    "\n",
    "<p id=\"demo\"></p>\n",
    "\n",
    "<script>\n",
    "// Create an Object\n",
    "const person = {\n",
    "  name: \"John\",\n",
    "  age: 30,\n",
    "  city: \"New York\"\n",
    "};\n",
    "\n",
    "// Build a Text\n",
    "let text = \"\";\n",
    "for (let x in person) {\n",
    "  text += person[x] + \" \";\n",
    "};\n",
    "\n",
    "// Display the Text\n",
    "document.getElementById(\"demo\").innerHTML = text;\n",
    "</script>\n",
    "\n",
    "</body>\n",
    "</html>\n"
   ]
  },
  {
   "cell_type": "code",
   "execution_count": null,
   "metadata": {},
   "outputs": [],
   "source": [
    "\n",
    "class Person {\n",
    "  constructor(first, last, age, eye) {\n",
    "    this.firstName = first;\n",
    "    this.lastName = last;\n",
    "    this.age = age;\n",
    "    this.eyeColor = eye;\n",
    "    \n",
    "}\n",
    "\n",
    "// Create Person objects\n",
    "const myMother = new Person(\"Sally\", \"Rally\", 48, \"green\");\n",
    "const myFriend1 = new Person(\"John\", \"Doe\", 50, \"blue\");\n",
    "const mySelf = new Person(\"Johnny\", \"Rally\", 22, \"green\"); // no new property can be added to constructor object (like Person.id=3). and values for unassigned property is bydefault undefined.\n",
    "// though v can add property with value though all objects woud then have same value. Person.prototype.nationality = \"English\"; now mySelf.nationality shall print english\n",
    "\n",
    "// Display age\n",
    "document.getElementById(\"demo\").innerHTML =\n",
    "\"My friend is \" + myFriend1.age + \".\";"
   ]
  },
  {
   "cell_type": "code",
   "execution_count": null,
   "metadata": {},
   "outputs": [],
   "source": [
    "// constructor function. helps create more objects\n",
    "function Person(first, last, age, eyecolor) {\n",
    "  this.firstName = first;\n",
    "  this.lastName = last;\n",
    "  this.age = age;\n",
    "  this.eyeColor = eyecolor;\n",
    "  this.fullName = function() {\n",
    "    return this.firstName + \" \" + this.lastName;\n",
    "  };\n",
    "}\n",
    "\n",
    "const myFriend2 = new Person(\"Sally\", \"Rally\", 48, \"green\");\n",
    "const myFriend1 = new Person(\"John\", \"Doe\", 50, \"blue\");\n",
    "const mySelf = new Person(\"Johnny\", \"Rally\", 22, \"green\");\n",
    "\n",
    "Person.prototype.changeName = function (name) {\n",
    "  this.lastName = name;\n",
    "}\n",
    "\n",
    "myFriend2.changeName(\"Doe\");\n",
    "new Object()   // A new Object object. {}\n",
    "new Array()    // A new Array object. Use array literals [] instead of new Array().\n",
    "new Map()      // A new Map object\n",
    "new Set()      // A new Set object\n",
    "new Date()     // A new Date object\n",
    "new RegExp()   // A new RegExp object. Use pattern literals /()/ instead of new RegExp()\n",
    "new Function() // A new Function object\n",
    "// global object cannot have new keyword ex. Math()\n"
   ]
  },
  {
   "cell_type": "code",
   "execution_count": null,
   "metadata": {},
   "outputs": [],
   "source": [
    "const fruits = {Bananas:300, Oranges:200, Apples:500}; \n",
    "\n",
    "let text = \"\";\n",
    "for (let [fruit, amount] of Object.entries(fruits)) {\n",
    "  text += fruit + \": \" + amount + \"<br>\";\n",
    "}\n",
    "\n",
    "document.getElementById(\"demo\").innerHTML = text;"
   ]
  },
  {
   "cell_type": "code",
   "execution_count": null,
   "metadata": {},
   "outputs": [],
   "source": [
    "let text = \"Apple, Banana, Kiwi\";\n",
    "let part = text.slice(7,13);\n",
    "let part2 = text.substring(-9, 13);\n",
    "let part3 = str.substr(7);\n",
    "let text2 = text1.toLowerCase();\n",
    "text4 = \" Hello\".concat(\" \", \"World!\");"
   ]
  },
  {
   "cell_type": "code",
   "execution_count": null,
   "metadata": {},
   "outputs": [],
   "source": [
    "// higher order function\n",
    "function ok () {\n",
    "  return X;\n",
    "   return y;\n",
    "}"
   ]
  },
  {
   "cell_type": "code",
   "execution_count": null,
   "metadata": {},
   "outputs": [],
   "source": [
    "// rong code\n",
    "/**\n",
    " * @param {integer} init\n",
    " * @return { increment: Function, decrement: Function, reset: Function }\n",
    " */\n",
    "var createCounter = function(init) {\n",
    "  let count = init;\n",
    "\n",
    "  function inc(count){\n",
    "      return ++count;\n",
    "  }\n",
    "  function dec(count){\n",
    "      return --count;\n",
    "  }\n",
    "  function res(count){\n",
    "      return init;\n",
    "  }\n",
    "  return{\n",
    "      increment: inc,\n",
    "      decrement: dec,\n",
    "      reset: res,\n",
    "  }\n",
    "};\n",
    "\n",
    "/**\n",
    "* const counter = createCounter(5)\n",
    "* counter.increment(); // 6\n",
    "* counter.reset(); // 5\n",
    "* counter.decrement(); // 4\n",
    "*/\n",
    "// error is inner functions doesnt take parameter value from init. inner function also get same parameter as superfunction. "
   ]
  },
  {
   "cell_type": "code",
   "execution_count": null,
   "metadata": {},
   "outputs": [],
   "source": [
    "// right code:\n",
    "/**\n",
    " * @param {integer} init\n",
    " * @return { increment: Function, decrement: Function, reset: Function }\n",
    " */\n",
    "var createCounter = function(init) {\n",
    "  let count = init;\n",
    "\n",
    "  function inc(){\n",
    "      return ++count;\n",
    "  } // const inc = () => ++count;\n",
    "  function dec(){\n",
    "      return --count;\n",
    "  }\n",
    "  function res(){\n",
    "      count = init; \n",
    "      return count; // ycant v directly return init? dec after reset shall happen of count if count not returned. if return init directly count may not get updated. so any operation on count would happen on previous value. return init only does work of printing input and not actually resettikng count.\n",
    "  }\n",
    "  return{\n",
    "      increment: inc,\n",
    "      decrement: dec,\n",
    "      reset: res,\n",
    "  }\n",
    "};\n",
    "\n",
    "/**\n",
    "* const counter = createCounter(5)\n",
    "* counter.increment(); // 6\n",
    "* counter.reset(); // 5\n",
    "* counter.decrement(); // 4\n",
    "*/"
   ]
  },
  {
   "cell_type": "code",
   "execution_count": null,
   "metadata": {},
   "outputs": [],
   "source": [
    "// arr.map method of object array."
   ]
  },
  {
   "cell_type": "code",
   "execution_count": null,
   "metadata": {},
   "outputs": [
    {
     "name": "stdout",
     "output_type": "stream",
     "text": [
      "25\n"
     ]
    }
   ],
   "source": []
  }
 ],
 "metadata": {
  "kernelspec": {
   "display_name": "JavaScript (Node.js)",
   "language": "javascript",
   "name": "javascript"
  },
  "language_info": {
   "file_extension": ".js",
   "mimetype": "application/javascript",
   "name": "javascript",
   "version": "20.18.3"
  }
 },
 "nbformat": 4,
 "nbformat_minor": 2
}
